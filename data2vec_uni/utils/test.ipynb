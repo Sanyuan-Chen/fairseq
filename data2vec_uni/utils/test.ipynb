{
 "cells": [
  {
   "cell_type": "code",
   "execution_count": 16,
   "metadata": {},
   "outputs": [],
   "source": [
    "import torch\n",
    "\n",
    "text_y = torch.reshape(torch.arange(16),(2, 4, 2))\n",
    "meta = torch.reshape(torch.arange(8),(2, 4))"
   ]
  },
  {
   "cell_type": "code",
   "execution_count": 66,
   "metadata": {},
   "outputs": [
    {
     "name": "stdout",
     "output_type": "stream",
     "text": [
      "torch.Size([6, 2])\n",
      "torch.Size([1, 10, 2])\n",
      "torch.Size([22, 2])\n",
      "torch.Size([1, 10, 2])\n",
      "torch.Size([2, 10, 2])\n"
     ]
    }
   ],
   "source": [
    "speech_len = 10\n",
    "dim = 2\n",
    "text_upsampling_list = []\n",
    "\n",
    "for sentence, sentence_meta in zip(text_y, meta):\n",
    "    sentence_upsampling = torch.cat(\n",
    "        [token_.repeat(meta_,1) for token_ ,meta_ in zip(sentence, sentence_meta)], dim=0\n",
    "    )\n",
    "    print(sentence_upsampling.shape)\n",
    "    if len(sentence_upsampling) < speech_len:\n",
    "        sentence_upsampling = torch.cat(\n",
    "            [sentence_upsampling, sentence_upsampling.new_zeros(speech_len - len(sentence_upsampling), dim)], dim=0\n",
    "        ).unsqueeze(0)\n",
    "    else:\n",
    "        sentence_upsampling = sentence_upsampling[:speech_len].unsqueeze(0)\n",
    "    print(sentence_upsampling.shape)\n",
    "    text_upsampling_list.append(sentence_upsampling)\n",
    "        \n",
    "\n",
    "text_upsampling = torch.cat(text_upsampling_list, dim=0)\n",
    "print(text_upsampling.shape)"
   ]
  },
  {
   "cell_type": "code",
   "execution_count": 29,
   "metadata": {},
   "outputs": [
    {
     "name": "stdout",
     "output_type": "stream",
     "text": [
      "tensor([0, 1]) tensor(0)\n",
      "tensor([2, 3]) tensor(1)\n",
      "tensor([4, 5]) tensor(2)\n",
      "tensor([6, 7]) tensor(3)\n",
      "tensor([8, 9]) tensor(4)\n",
      "tensor([10, 11]) tensor(5)\n",
      "tensor([12, 13]) tensor(6)\n",
      "tensor([14, 15]) tensor(7)\n"
     ]
    }
   ],
   "source": [
    "for sentence, sentence_meta in zip(text_y, meta):\n",
    "    for token_ ,meta_ in zip(sentence, sentence_meta):\n",
    "        print(token_, meta_)"
   ]
  },
  {
   "cell_type": "code",
   "execution_count": 49,
   "metadata": {},
   "outputs": [
    {
     "data": {
      "text/plain": [
       "tensor([[ 2,  3],\n",
       "        [ 4,  5],\n",
       "        [ 4,  5],\n",
       "        [ 6,  7],\n",
       "        [ 6,  7],\n",
       "        [ 6,  7],\n",
       "        [ 8,  9],\n",
       "        [ 8,  9],\n",
       "        [ 8,  9],\n",
       "        [ 8,  9],\n",
       "        [10, 11],\n",
       "        [10, 11],\n",
       "        [10, 11],\n",
       "        [10, 11],\n",
       "        [10, 11],\n",
       "        [12, 13],\n",
       "        [12, 13],\n",
       "        [12, 13],\n",
       "        [12, 13],\n",
       "        [12, 13],\n",
       "        [12, 13],\n",
       "        [14, 15],\n",
       "        [14, 15],\n",
       "        [14, 15],\n",
       "        [14, 15],\n",
       "        [14, 15],\n",
       "        [14, 15],\n",
       "        [14, 15]])"
      ]
     },
     "execution_count": 49,
     "metadata": {},
     "output_type": "execute_result"
    }
   ],
   "source": [
    "text_upsampling"
   ]
  }
 ],
 "metadata": {
  "interpreter": {
   "hash": "19f2dc0fcc391a9e329e3cb8a6e4282056d80b6f8bbd20554e59c6180e03cc32"
  },
  "kernelspec": {
   "display_name": "Python 3.9.7 ('fairseq': conda)",
   "language": "python",
   "name": "python3"
  },
  "language_info": {
   "codemirror_mode": {
    "name": "ipython",
    "version": 3
   },
   "file_extension": ".py",
   "mimetype": "text/x-python",
   "name": "python",
   "nbconvert_exporter": "python",
   "pygments_lexer": "ipython3",
   "version": "3.9.7"
  },
  "orig_nbformat": 4
 },
 "nbformat": 4,
 "nbformat_minor": 2
}
